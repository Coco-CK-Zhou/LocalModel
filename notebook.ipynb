{
 "cells": [
  {
   "cell_type": "code",
   "execution_count": 44,
   "metadata": {},
   "outputs": [],
   "source": [
    "import os\n",
    "from dotenv import load_dotenv\n",
    "\n",
    "load_dotenv()\n",
    "\n",
    "OPENAI_API_KEY = os.getenv(\"OPENAI_API_KEY\")\n",
    "# MODEL = \"gpt-3.5-turbo\"\n",
    "# MODEL = \"mixtral:8x7b\"\n",
    "MODEL = \"llama3\"\n",
    "\n"
   ]
  },
  {
   "cell_type": "code",
   "execution_count": 45,
   "metadata": {},
   "outputs": [],
   "source": [
    "from langchain_community.llms import Ollama\n",
    "from langchain_openai.chat_models import ChatOpenAI\n",
    "from langchain_community.embeddings import OllamaEmbeddings\n",
    "from langchain_openai.embeddings import OpenAIEmbeddings\n",
    "from langchain_openai.chat_models import ChatOpenAI\n",
    "\n",
    "if MODEL.startswith(\"gpt\"):\n",
    "    model = ChatOpenAI(openai_api_key=OPENAI_API_KEY, model=MODEL)\n",
    "    embeddings = OpenAIEmbeddings()\n",
    "else:\n",
    "    model = Ollama(model=MODEL)\n",
    "    embeddings = OllamaEmbeddings(model=MODEL)\n",
    "\n",
    "# model.invoke(\"Tell me a joke\")"
   ]
  },
  {
   "cell_type": "code",
   "execution_count": 46,
   "metadata": {},
   "outputs": [
    {
     "data": {
      "text/plain": [
       "'Santiago!'"
      ]
     },
     "execution_count": 46,
     "metadata": {},
     "output_type": "execute_result"
    }
   ],
   "source": [
    "from langchain.prompts import PromptTemplate\n",
    "from langchain_core.output_parsers import StrOutputParser\n",
    "\n",
    "parser = StrOutputParser()\n",
    "\n",
    "chain = model | parser \n",
    "chain.invoke(\"Tell me a joke\")\n",
    "\n",
    "template = \"\"\"\n",
    "Answer the question based on the context below. If you can't \n",
    "answer the question, reply \"I don't know\".\n",
    "\n",
    "Context: {context}\n",
    "\n",
    "Question: {question}\n",
    "\"\"\"\n",
    "\n",
    "prompt = PromptTemplate.from_template(template)\n",
    "prompt.format(context=\"Here is some context\", question=\"Here is a question\")\n",
    "\n",
    "chain = prompt | model | parser\n",
    "\n",
    "chain.invoke({\"context\": \"My parents named me Santiago\", \"question\": \"What's your name'?\"})"
   ]
  },
  {
   "cell_type": "code",
   "execution_count": 47,
   "metadata": {},
   "outputs": [
    {
     "data": {
      "text/plain": [
       "[Document(page_content='Vocabulary\\nfor\\nUnit\\n12\\nof\\nComputer\\nArchitecture\\n●\\nDogwater\\n-\\nyou\\nsuck\\nat\\nthe\\ngame\\n●\\nMew\\n-\\nmaking\\nyourself\\nhandsomer\\n●\\nWoolwars\\n-\\na\\nminecraft\\ngamemode\\nin\\nHypixel\\n●\\nRizz\\n-\\nshort\\nfor\\ncharisma,\\nmeaning\\ncharm\\n●\\nGyatt\\n-\\nbutt\\n●\\nEgirl\\n-\\nsome\\ngirl\\nthat\\nonline\\ndates\\n●\\nEmo\\n-\\nsomeone\\nthat\\ndresses\\nin\\nall\\nblack\\n(prime\\nexample:\\nant)\\n●\\nDiscord\\n-\\nonline\\ncommunication\\nplatform', metadata={'source': 'Testing API PDF Processing.pdf', 'page': 0})]"
      ]
     },
     "execution_count": 47,
     "metadata": {},
     "output_type": "execute_result"
    }
   ],
   "source": [
    "from langchain_community.document_loaders import PyPDFLoader\n",
    "from langchain_community.vectorstores import DocArrayInMemorySearch\n",
    "\n",
    "loader = PyPDFLoader(\"Testing API PDF Processing.pdf\")\n",
    "pages = loader.load_and_split()\n",
    "\n",
    "vectorstore = DocArrayInMemorySearch.from_documents(pages, embedding=embeddings)\n",
    "\n",
    "retriever = vectorstore.as_retriever()\n",
    "retriever.invoke(\"mew\")\n",
    "\n"
   ]
  },
  {
   "cell_type": "code",
   "execution_count": 48,
   "metadata": {},
   "outputs": [
    {
     "name": "stdout",
     "output_type": "stream",
     "text": [
      "Question: What is the definition of mewing?\n",
      "Answer: Based on the context, I can answer that \"Mew\" has a definition of \"making yourself handsomer\".\n",
      "\n",
      "Question: Give me an example of an emo?\n",
      "Answer: Based on the context, an example of an emo would be \"Anthony\" (according to the text: \"(prime example: ant)\").\n",
      "\n",
      "Question: How many terms are in this pdf?\n",
      "Answer: I can answer the question!\n",
      "\n",
      "According to the context, there are 11 terms listed:\n",
      "\n",
      "1. Dogwater\n",
      "2. Mew\n",
      "3. Woolwars\n",
      "4. Rizz\n",
      "5. Gyatt\n",
      "6. Egirl\n",
      "7. Emo\n",
      "8. Discord\n",
      "\n",
      "So, the answer is: 8\n",
      "\n",
      "Question: What class does this document cover?\n",
      "Answer: Based on the context, I would say that this document covers the \"Vocabulary\" for Unit 12 of Computer Architecture.\n",
      "\n",
      "Question: What unit are we on?\n",
      "Answer: Based on the context, I can answer that question!\n",
      "\n",
      "We're on Unit 12 of Computer Architecture!\n",
      "\n",
      "Question: What is woolwars?\n",
      "Answer: According to the context, Woolwars refers to a Minecraft game mode in Hypixel.\n",
      "\n"
     ]
    }
   ],
   "source": [
    "from operator import itemgetter\n",
    "\n",
    "chain = (\n",
    "    {\n",
    "        \"context\": itemgetter(\"question\") | retriever,\n",
    "        \"question\": itemgetter(\"question\"),\n",
    "    }\n",
    "    | prompt\n",
    "    | model\n",
    "    | parser\n",
    ")\n",
    "\n",
    "questions = [\n",
    "    \"What is the definition of mewing?\",\n",
    "    \"Give me an example of an emo?\",\n",
    "    \"How many terms are in this pdf?\",\n",
    "    \"What class does this document cover?\",\n",
    "    \"What unit are we on?\",\n",
    "    \"What is woolwars?\",\n",
    "]\n",
    "\n",
    "for question in questions:\n",
    "    print(f\"Question: {question}\")\n",
    "    print(f\"Answer: {chain.invoke({'question': question})}\")\n",
    "    print()"
   ]
  }
 ],
 "metadata": {
  "kernelspec": {
   "display_name": ".venv",
   "language": "python",
   "name": "python3"
  },
  "language_info": {
   "codemirror_mode": {
    "name": "ipython",
    "version": 3
   },
   "file_extension": ".py",
   "mimetype": "text/x-python",
   "name": "python",
   "nbconvert_exporter": "python",
   "pygments_lexer": "ipython3",
   "version": "3.9.6"
  }
 },
 "nbformat": 4,
 "nbformat_minor": 2
}
