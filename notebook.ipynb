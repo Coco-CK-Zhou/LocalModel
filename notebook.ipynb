{
 "cells": [
  {
   "cell_type": "code",
   "execution_count": 49,
   "metadata": {},
   "outputs": [],
   "source": [
    "import os\n",
    "from dotenv import load_dotenv\n",
    "\n",
    "load_dotenv()\n",
    "\n",
    "OPENAI_API_KEY = os.getenv(\"OPENAI_API_KEY\")\n",
    "# MODEL = \"gpt-3.5-turbo\"\n",
    "# MODEL = \"mixtral:8x7b\"\n",
    "MODEL = \"llama3\"\n",
    "\n"
   ]
  },
  {
   "cell_type": "code",
   "execution_count": 50,
   "metadata": {},
   "outputs": [],
   "source": [
    "from langchain_community.llms import Ollama\n",
    "from langchain_openai.chat_models import ChatOpenAI\n",
    "from langchain_community.embeddings import OllamaEmbeddings\n",
    "from langchain_openai.embeddings import OpenAIEmbeddings\n",
    "from langchain_openai.chat_models import ChatOpenAI\n",
    "\n",
    "if MODEL.startswith(\"gpt\"):\n",
    "    model = ChatOpenAI(openai_api_key=OPENAI_API_KEY, model=MODEL)\n",
    "    embeddings = OpenAIEmbeddings()\n",
    "else:\n",
    "    model = Ollama(model=MODEL)\n",
    "    embeddings = OllamaEmbeddings(model=MODEL)\n",
    "\n",
    "# model.invoke(\"Tell me a joke\")"
   ]
  },
  {
   "cell_type": "code",
   "execution_count": 51,
   "metadata": {},
   "outputs": [
    {
     "data": {
      "text/plain": [
       "'My name is Santiago.'"
      ]
     },
     "execution_count": 51,
     "metadata": {},
     "output_type": "execute_result"
    }
   ],
   "source": [
    "from langchain.prompts import PromptTemplate\n",
    "from langchain_core.output_parsers import StrOutputParser\n",
    "\n",
    "parser = StrOutputParser()\n",
    "\n",
    "chain = model | parser \n",
    "chain.invoke(\"Tell me a joke\")\n",
    "\n",
    "template = \"\"\"\n",
    "Answer the question based on the context below. If you can't \n",
    "answer the question, reply \"I don't know\".\n",
    "\n",
    "Context: {context}\n",
    "\n",
    "Question: {question}\n",
    "\"\"\"\n",
    "\n",
    "prompt = PromptTemplate.from_template(template)\n",
    "prompt.format(context=\"Here is some context\", question=\"Here is a question\")\n",
    "\n",
    "chain = prompt | model | parser\n",
    "\n",
    "chain.invoke({\"context\": \"My parents named me Santiago\", \"question\": \"What's your name'?\"})"
   ]
  },
  {
   "cell_type": "code",
   "execution_count": 52,
   "metadata": {},
   "outputs": [
    {
     "data": {
      "text/plain": [
       "[Document(page_content='C O N S T I T U T I O N O F T H E U N I T E D S T A T E S  Article.   IV. \\nSECTION.  1 \\nFull Faith and Credit shall be given in each State to the \\npublic Acts, Records, and judicial Proceedings of every oth-  \\ner State. And the Congress may by general Laws prescribe \\nthe Manner in which such Acts, Records and Proceedings \\nshall be proved, and the Effect thereof.  \\nSECTION.  2 \\nThe Citizens  of each State  shall be entitled  to all Privileges \\nand Immunities of Citizens in the several States  \\nA Person  charged  in any State  with Treason,  Felony,  or \\nother  Crime,  who shall flee from  Justice,  and be found  in \\nanother  State,  shall on Demand  of the executive  Author - \\nity of the State  from  which he fled, be delivered  up, to be \\nremoved to the State having Jurisdiction of the Crime.  \\nNo Person held to Service or Labour in one State, under \\nthe Laws thereof, escaping into another, shall, in Conse - \\nquence of any Law or Regulation therein, be discharged  \\nfrom such Service or Labour, but shall be delivered up on Claim of the Party to whom such Service or Labour may be \\ndue.]*  \\nSECTION.  3 \\nNew States may be admitted by the Congress into this \\nUnion; but no new State shall be formed or erected within the Ju risdiction of any other State; nor any State be formed \\nby the Junction of two or more States, or Parts of States, without the Consent of the Legislatures of the States con-  \\ncerned as well as of the Congress. \\nThe Congress shall have Power to dispose of and make all \\nneedful Rules and Regulations respecting the Territory or \\nother Property belonging to the United States; and nothing \\nin this Constitution shall be so construed as to Prejudice  \\nany Claims of the United States, or of any particular State.  \\nSECTION.  4 \\nThe United States shall guarantee to every State in this  \\nUnion a Republican Form of Government, and shall  \\nprotect each of them against Invasion; and on Application of the Legislature, or of the Executive (when the Legislature \\ncannot be convened) against d omestic Violence.  Article.   V. \\nThe Congress, whenever two thirds of both Houses shall \\ndeem it necessary, shall propose Amendments to this Con-  \\nstitution, or, on the Application of the Legislatures of two \\nthirds of the several States, shall call a Conventi on for pro-  \\nposing Amendments, which in either Case, shall be valid to \\nall Intents and Purposes, as Part of this Constitution, when \\nratified by the Legislatures of three -fourths of the several \\nStates, or by Conventions in three fourths thereof, as the  \\none or the other Mode of Ratification may be proposed by \\nthe Congress; Provided that no Amendment which may be made prior to the Year One thousand eight hundred and \\neight shall in any Manner affect the first and fourth Clauses \\nin the Ninth Section of the first  Article; and that no State, \\nwithout its Consent, shall be deprived of its equal Suffrage  \\nin the Senate', metadata={'source': 'US-Constitution.pdf', 'page': 8}),\n",
       " Document(page_content='T  \\n  \\n \\n   \\n \\n   \\n \\n   \\n \\n   \\n \\n   \\n \\n   \\n \\n \\n \\n \\n \\nhe NCC is an independent, \\nnon-partisan, nonprofit \\norganization that was established  \\nin 1988 under the Constitution Heritage \\nAct. The Center’s mission is to increase \\nawareness and understanding of the \\nConstitution, the Constitution’s history \\nand its relevance to people’s daily lives.  \\n \\n \\n \\n \\n \\n \\nNational Constitution Center \\n525 Arch Street Independence Mall \\nPhiladelphia, PA  19106 \\n \\n(215)  409-6600  \\nwww.constitutioncenter.org', metadata={'source': 'US-Constitution.pdf', 'page': 18}),\n",
       " Document(page_content='C O N S T I T U T I O N O F T H E U N I T E D S T A T E S  Article.   II. \\nSECTION.  1 \\nThe executive Power shall be vested in a President of the \\nUnited S tates of America. He shall hold his Office during \\nthe Term of four Years, and, together with the  Vice Presi - \\ndent, chosen for the same Term, be elected, as follows: \\nEach State shall appoint, in such Manner as the Legislature \\nthereof may direct, a Number of Electors, equal to the  \\nwhole Number of Senators and Representatives to which the State may be entitled in the Congress: but no Senator or \\nRepresentative,  or Person holding  an Office  of Trust  or Prof- \\nit under the United States, shall be appointed an Elector.  \\n[The Electors shall meet in their respective States, and vote by Ballot for two Persons, of whom one at least shall not  \\nbe an Inhabitant of the same State with themselves. And \\nthey shall make a List of all the Persons voted for, and of  \\nthe Number of Votes for each; which List they shall sign and certify, and transmit sealed to the Seat of the Govern-  \\nment of the United States, directed to the President of the \\nSenate. The  President  of the Senate  shall,  in the Presence \\nof the Senate and House of Representativ es, open all the \\nCertificates, and the Votes shall then be counted. The \\nPerson having the greatest Number of Votes shall be the \\nPresident, if such Number be a Majority of the whole \\nNumber of Electors appointed; and if there be more than \\none who have such M ajority, and have an equal Number of \\nVotes, then the House of Representatives shall immediately chuse by Ballot one of them for President; and if no Person \\nhave a Majority,  then from  the five highest  on the List \\nthe said House shall in like Manner chuse th e President.  \\nBut in chusing the President,  the Votes  shall be taken  by \\nStates, the Representation from each State having one Vote; A quorum for this Purpose shall consist of a Member or Members from two thirds of the States, and a Majority of\\n \\nall the States shall be necessary to a Choice. In every Case, after the Choice of the President, the Person having the greatest Number of Votes of the Electors shall be the Vice \\nPresident. But if there should remain two or more who \\nhave equal Votes, the Senate shall chuse from them by Bal - \\nlot the Vice President.]*   \\n \\n \\n \\n \\nThe Congress may determine the  Time of chusing the \\nElectors,  and the Day on which  they shall give their Votes; \\nwhich Day shall be the same  throughout  the United States.  \\nNo Person except a natural born Citizen, or a Citizen \\nof the United  States,  at the time of the Adoption  of this \\nConstitution,  shall be eligible  to the Office  of President;  \\nneither shall any person be eligible to that Office who shall \\nnot have attained to the Age of thirty five Years, and been \\nfourteen Years a Resident within the United States  \\nIn Case of the Removal of the President from Office, or of \\nhis Death, Resignation, or Inability to discharge the Powers \\nand Duties of the said Office, the Same shall devolve on the Vice President, and the Congress may by Law provide for \\nthe Case of Removal, Death, Resignation or Inability, both \\nof the President and V ice President, declaring what Officer \\nshall then act as President, and such Officer shall act ac - \\ncordingly, until the Disability be removed, or a President shall be elected.]*  \\nThe President shall, at stated  Times, receive for his Services, \\na Compensation, which shall neither be increased nor \\ndiminished during the Period for which he shall have been \\nelected, and he shall not receive within that Period any\\n \\nother Emolument from the United States, or any of them.  \\nBefore he enter on the Execution of his Office, he shall \\ntake the following Oath or Affirmation: - “I do solemnly \\nswear (or affirm) that I will faithfully execute the Office of \\nPresident of the United States, and will to the best of my Ability, preserve, protect and defend the Constitution of \\nthe United  States.”', metadata={'source': 'US-Constitution.pdf', 'page': 5}),\n",
       " Document(page_content='NATIONAL  CONSTITUTION  CENTER   \\n   \\n \\n \\n \\n \\n  \\n \\nTHE  \\nCONSTITUTION  \\nof the United  States', metadata={'source': 'US-Constitution.pdf', 'page': 0})]"
      ]
     },
     "execution_count": 52,
     "metadata": {},
     "output_type": "execute_result"
    }
   ],
   "source": [
    "from langchain_community.document_loaders import PyPDFLoader\n",
    "from langchain_community.vectorstores import DocArrayInMemorySearch\n",
    "\n",
    "loader = PyPDFLoader(\"US-Constitution.pdf\")\n",
    "pages = loader.load_and_split()\n",
    "\n",
    "vectorstore = DocArrayInMemorySearch.from_documents(pages, embedding=embeddings)\n",
    "\n",
    "retriever = vectorstore.as_retriever()\n",
    "retriever.invoke(\"mew\")\n",
    "\n"
   ]
  },
  {
   "cell_type": "code",
   "execution_count": 53,
   "metadata": {},
   "outputs": [
    {
     "name": "stdout",
     "output_type": "stream",
     "text": [
      "Question: How many states are in the US?\n",
      "Answer: I can answer this question based on the context you provided, which is a document containing the United States Constitution.\n",
      "\n",
      "According to Article I, Section 3 of the Constitution (modified by the 17th Amendment), each State shall have two Senators. Therefore, there are 50 states in the US, as each state has two senators and all states together make up the Senate.\n",
      "\n",
      "Question: How many articles are in the US Constitution?\n",
      "Answer: According to the provided text, there are 27 amendments (not articles) to the United States Constitution. These amendments are listed as follows:\n",
      "\n",
      "1. Amendment XV (1869)\n",
      "2. Amendment XVI (1913)\n",
      "3. Amendment XVII (1913)\n",
      "4. Amendment XVIII (1919)\n",
      "5. Amendment XIX (1920)\n",
      "\n",
      "These amendments are based on Articles I, II, III, IV, V, and VII of the original Constitution, which have not been modified or replaced by these amendments.\n",
      "\n",
      "So, to answer your question, there are no articles in the US Constitution as provided in this text. The original Constitution had seven articles, but the subsequent amendments did not add new articles; instead, they modified or added provisions to existing articles or introduced new clauses.\n",
      "\n",
      "Question: What are the three branches of the US government?\n",
      "Answer: Based on the provided context, which appears to be the United States Constitution, Article IV, Section 3 and Article I, Section 1, I can answer your question.\n",
      "\n",
      "The three branches of the US government mentioned in the Constitution are:\n",
      "\n",
      "1. **Legislative**: The Congress (Article I, Section 1) is responsible for making laws.\n",
      "2. **Executive**: The President of the United States (not explicitly defined in this context but implied as a branch) is responsible for enforcing laws and serving as the head of state.\n",
      "3. **Judicial**: The Supreme Court (implied through its mention in Article III, Section 1 of the Constitution, not shown in this specific excerpt) is responsible for interpreting laws and ensuring they align with the Constitution.\n",
      "\n",
      "Please note that these are the primary branches mentioned in the provided context. There might be additional details or clarifications elsewhere in the Constitution or other US government sources.\n",
      "\n",
      "Question: How many pages are in this document?\n",
      "Answer: A simple question!\n",
      "\n",
      "According to the `metadata` dictionary, there are two pages in this document:\n",
      "\n",
      "Page 4: US Constitution, Section 9 and 10\n",
      "Page 2: US Constitution, Section 4-6\n",
      "\n",
      "So, the answer is 2.\n",
      "\n",
      "Question: How many amendments are in the US Constitution?\n",
      "Answer: Based on the provided context, there are 23 amendments mentioned:\n",
      "\n",
      "1. The 16th Amendment (relating to income tax)\n",
      "2. The 17th Amendment (regarding Senate elections)\n",
      "3. The 18th Amendment (the Prohibition Amendment)\n",
      "4. The 19th Amendment (giving women the right to vote)\n",
      "5. The 20th Amendment (shortening presidential terms)\n",
      "6. The 21st Amendment (repealing Prohibition)\n",
      "7. The 22nd Amendment (limiting presidential terms)\n",
      "8. The 23rd Amendment (granting District of Columbia electoral votes)\n",
      "\n",
      "Note that there are more amendments beyond the ones mentioned in this specific context.\n",
      "\n",
      "Question: What is the purpose of the US Constitution?\n",
      "Answer: Based on the provided context, I can answer your question as follows:\n",
      "\n",
      "The United States Constitution is a supreme law that outlines the framework and principles of governance for the United States. Its main purposes are:\n",
      "\n",
      "1. To establish the structure and powers of the federal government.\n",
      "2. To define the relationship between the federal government and the states.\n",
      "3. To protect individual rights and liberties through amendments.\n",
      "\n",
      "In summary, the US Constitution provides a foundation for the country's system of government, ensuring that power is distributed evenly among the three branches (legislative, executive, and judicial) and safeguarding citizens' fundamental rights and freedoms.\n",
      "\n"
     ]
    }
   ],
   "source": [
    "from operator import itemgetter\n",
    "\n",
    "chain = (\n",
    "    {\n",
    "        \"context\": itemgetter(\"question\") | retriever,\n",
    "        \"question\": itemgetter(\"question\"),\n",
    "    }\n",
    "    | prompt\n",
    "    | model\n",
    "    | parser\n",
    ")\n",
    "\n",
    "questions = [\n",
    "    \"How many states are in the US?\",\n",
    "    \"How many articles are in the US Constitution?\",\n",
    "    \"What are the three branches of the US government?\",\n",
    "    \"How many pages are in this document?\",\n",
    "    \"How many amendments are in the US Constitution?\",\n",
    "    \"What is the purpose of the US Constitution?\",\n",
    "]\n",
    "\n",
    "for question in questions:\n",
    "    print(f\"Question: {question}\")\n",
    "    print(f\"Answer: {chain.invoke({'question': question})}\")\n",
    "    print()"
   ]
  }
 ],
 "metadata": {
  "kernelspec": {
   "display_name": ".venv",
   "language": "python",
   "name": "python3"
  },
  "language_info": {
   "codemirror_mode": {
    "name": "ipython",
    "version": 3
   },
   "file_extension": ".py",
   "mimetype": "text/x-python",
   "name": "python",
   "nbconvert_exporter": "python",
   "pygments_lexer": "ipython3",
   "version": "3.9.6"
  }
 },
 "nbformat": 4,
 "nbformat_minor": 2
}
